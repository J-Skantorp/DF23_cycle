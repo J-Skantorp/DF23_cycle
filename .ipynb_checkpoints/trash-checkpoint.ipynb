{
 "cells": [
  {
   "cell_type": "code",
   "execution_count": null,
   "id": "5ee91bc7",
   "metadata": {},
   "outputs": [],
   "source": [
    "import gurobipy as gp\n",
    "from gurobipy import GRB\n",
    "import matplotlib.pyplot as plt\n",
    "import math\n",
    "import numpy as np\n",
    "\n",
    "from IPython.display import Image\n",
    "display(Image(filename='DF_topic.png'))"
   ]
  },
  {
   "cell_type": "code",
   "execution_count": null,
   "id": "199ac3b9",
   "metadata": {},
   "outputs": [],
   "source": [
    "#Just some different ways to take absolute values in gurobi    \n",
    "    \n",
    "    ### NORM\n",
    "    #u = m.addVar(name=\"u\")\n",
    "    #obj = u\n",
    "    #m.addConstr((u == gp.norm(diff, 1.0)), \"abs\")\n",
    "    \n",
    "    ### DIY\n",
    "    #m.addConstrs((diff[v] - u[v] <= 0 for v in vel), \"abs+\") #if |h^v - sum_t(b^v)| > 0\n",
    "    #m.addConstrs((-diff[v] - u[v] <= 0 for v in vel), \"abs-\") #if |h^v - sum_t(b^v)| < 0"
   ]
  },
  {
   "cell_type": "markdown",
   "id": "cff0e8c8",
   "metadata": {},
   "source": [
    "Below is a model I started to develop to handle non-int bin-sizes. It can be used as a starting point if we decide to go the route of re-binning dep on a_0 and dt."
   ]
  },
  {
   "cell_type": "code",
   "execution_count": null,
   "id": "f20086ba",
   "metadata": {},
   "outputs": [],
   "source": [
    "        #model.addConstrs((gp.quicksum(a[i,r]*y[r] for r in R) == 1 for i in P), name='firstConst')\n",
    "    \n",
    "    #m.addConstrs((x.sum(t) == y[s] for s in time_spans for t in span_idx[s]), \"assignAvSpeed\")\n",
    "    \n",
    "    #m.addConstrs((y_help[t] == 1 / dt_span * (sum(b.prod(coeff_ti, t, '*') for t in span_idx[s])) for s in time_spans), \"new\")  # compute av_vel at timespan s\n",
    "\n",
    "#    m.addConstrs((b.prod(coeff_ti, t, '*') == y_help[s] for t in span_idx[s]),\"help\")\n",
    " #   \n",
    "  #  m.addConstrs((y[s] == y_help[s].sum for s in time_spans), \"new\")  # compute av_vel at timespan s\n",
    "\n",
    "    \n",
    "    #m.addConstrs((y[s] == 1 / dt_span * (sum(b.prod(coeff_ti, t, '*') for t in span_idx[s])) for s in time_spans), \"new\")  # compute av_vel at timespan s\n"
   ]
  }
 ],
 "metadata": {
  "kernelspec": {
   "display_name": "Python 3 (ipykernel)",
   "language": "python",
   "name": "python3"
  },
  "language_info": {
   "codemirror_mode": {
    "name": "ipython",
    "version": 3
   },
   "file_extension": ".py",
   "mimetype": "text/x-python",
   "name": "python",
   "nbconvert_exporter": "python",
   "pygments_lexer": "ipython3",
   "version": "3.9.13"
  }
 },
 "nbformat": 4,
 "nbformat_minor": 5
}
