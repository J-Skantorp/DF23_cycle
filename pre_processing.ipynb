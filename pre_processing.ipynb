{
 "cells": [
  {
   "cell_type": "code",
   "execution_count": 70,
   "id": "e592194f",
   "metadata": {},
   "outputs": [],
   "source": [
    "#Some installations will be needed in order to run this code\n",
    "\n",
    "import numpy as np\n",
    "import matplotlib.pyplot as plt\n",
    "#from geopy.distance import great_circle\n",
    "\n",
    "import pandas as pd      #Package for handling large data structures\n",
    "import geopandas as gpd  #Package for handling geospatial data\n",
    "from shapely import wkt  #The geo_data is in wkt-format, this package is needed to \"read\" that (wtk - well known text)"
   ]
  },
  {
   "cell_type": "markdown",
   "id": "19e03edd",
   "metadata": {},
   "source": [
    "# # Pre-pre-processing (only do the following once, they do take some time)"
   ]
  },
  {
   "cell_type": "markdown",
   "id": "c6ad0b69",
   "metadata": {},
   "source": [
    "First we read all the CSV-files into a Panda dataframes (df) - we later combine all the data into one df!\n",
    "\n",
    "This takes about 5-10 minutes - Jupiter works so that once you've run a cell you don't have to run it again!"
   ]
  },
  {
   "cell_type": "code",
   "execution_count": null,
   "id": "a905dc29",
   "metadata": {},
   "outputs": [],
   "source": [
    "#if you only want to use one dataset/run some testing ignore the below cell and run this instead:\n",
    "\n",
    "\n",
    "#test_set = 100 #only use 100 edges\n",
    "\n",
    "#df = pd.read_csv(r\"Stadradeln_Movebis/geschwindigkeiten_2020.csv\", sep=\",\")\n",
    "\n",
    "#n_rows = df.shape[0] #get last index\n",
    "#df = df.drop(df.index[test_set:n_rows]) #delete all rows after \"test_set\" "
   ]
  },
  {
   "cell_type": "code",
   "execution_count": 300,
   "id": "55c5279e",
   "metadata": {},
   "outputs": [],
   "source": [
    "#Read data into panda\n",
    "\n",
    "df_2018 = pd.read_csv(\n",
    "    r\"Stadradeln_Movebis/geschwindigkeiten_2018.csv\",\n",
    "    sep=\",\")\n",
    "\n",
    "df_2019 = pd.read_csv(\n",
    "    r\"Stadradeln_Movebis/geschwindigkeiten_2019.csv\",\n",
    "    sep=\",\")\n",
    "\n",
    "df_2020 = pd.read_csv(\n",
    "    r\"Stadradeln_Movebis/geschwindigkeiten_2020.csv\",\n",
    "    sep=\",\")\n"
   ]
  },
  {
   "cell_type": "markdown",
   "id": "63a77005",
   "metadata": {},
   "source": [
    "This is where we should put any cuts we know we want to make into the code, to save time!"
   ]
  },
  {
   "cell_type": "code",
   "execution_count": null,
   "id": "6e149cc1",
   "metadata": {},
   "outputs": [],
   "source": [
    "df = pd.concat([df_2018, df_2019,df_2020], ignore_index=True, sort=False) #put all years in the same dataframe"
   ]
  },
  {
   "cell_type": "code",
   "execution_count": 305,
   "id": "8d8b869f",
   "metadata": {},
   "outputs": [
    {
     "name": "stdout",
     "output_type": "stream",
     "text": [
      "Number of rows: 65718874\n",
      "Number of columns: 3\n"
     ]
    }
   ],
   "source": [
    "# Initial check on number of rows and columns\n",
    "n_rows = df.shape[0]\n",
    "n_columns = df.shape[1]\n",
    "print(f\"Number of rows: {n_rows}\\nNumber of columns: {n_columns}\")"
   ]
  },
  {
   "cell_type": "markdown",
   "id": "0c7c41d4",
   "metadata": {},
   "source": [
    "Below we use the GeoPandas dataframe (gdf) to process the geo-data;\n",
    "\n",
    "We rename \"edge_geo\" to \"geometry\" (not necessary - simple convention);\n",
    "\n",
    "We inform Panda that \"geometry\" contains geo-spacial data (using shapely/wtk);\n",
    "\n",
    "We create a geospatial dataframe gdf containing only the geometry, and\n",
    "use GeoPandas length-function to create a new column (containing length)\n",
    "\n",
    "We then return that column to our original dataframe.\n",
    "\n",
    "This takes about 30+ minutes (if all three data-sets are being used), so be warned!"
   ]
  },
  {
   "cell_type": "code",
   "execution_count": 307,
   "id": "f59bfbaa",
   "metadata": {},
   "outputs": [
    {
     "name": "stdout",
     "output_type": "stream",
     "text": [
      "                                            geometry     length\n",
      "0  LINESTRING (13.33734 49.06005, 13.33812 49.05981)  91.366416\n",
      "1  LINESTRING (13.33812 49.05981, 13.33734 49.06005)  91.366416\n",
      "2  LINESTRING (13.33652 49.06022, 13.33574 49.06030)  87.137119\n",
      "3  LINESTRING (13.33574 49.06030, 13.33652 49.06022)  87.137119\n",
      "4  LINESTRING (13.33652 49.06022, 13.33683 49.06017)  34.239417\n"
     ]
    }
   ],
   "source": [
    "df.rename(columns = {'edge_geo':'geometry'}, inplace = True) #simple naming convention\n",
    "\n",
    "df[\"geometry\"] = gpd.GeoSeries.from_wkt(df[\"geometry\"])      #Tell panda that the \"geometry\" is geo-data in wkt-format\n",
    "gdf = gpd.GeoDataFrame(df[\"geometry\"], geometry='geometry')  #Create geospatial dataframe in geopanda\n",
    "\n",
    "#Add a new column to gdf that contains the length of each line-segment\n",
    "R_earth = 6371*1000   # earth radius [m]\n",
    "d2r = np.pi/180\n",
    "gdf[\"length\"] = gdf[\"geometry\"].length * d2r * R_earth\n",
    "\n",
    "#Steal that column back for your original df\n",
    "df[\"length\"] = gdf[\"length\"]\n",
    "\n",
    "#print(gdf.head()) #Look at the data\n",
    "\n",
    "#This has a (rare) tendency to return the error: \"Expected bytes or string, got LineString\"\n",
    "#This seem to happen if the panda df has been meddled with too much\n",
    "#Simply reload the df (start over) and it should work"
   ]
  },
  {
   "cell_type": "markdown",
   "id": "b72d0f50",
   "metadata": {},
   "source": [
    "Below we do some final touches to or dataframe;\n",
    "\n",
    "- Convert km/h into m/s (and rename the column)\n",
    "- Add \"duration\"-column (length/speed)\n",
    "- Add \"total_duration\"-column (duration*visitors)"
   ]
  },
  {
   "cell_type": "code",
   "execution_count": 308,
   "id": "ef75953b",
   "metadata": {},
   "outputs": [],
   "source": [
    "#change km/h into m/s:\n",
    "df[\"avg_speed_kmh\"] = df[\"avg_speed_kmh\"]/3.6               \n",
    "df.rename(columns = {'avg_speed_kmh':'av_speed_ms'}, inplace = True)\n",
    "\n",
    "#Add duration column to df\n",
    "df[\"duration\"] = df[\"length\"]/df[\"av_speed_ms\"]\n",
    "\n",
    "#Add total_duration \n",
    "df[\"total_duration\"] = df[\"duration\"]*df[\"visits\"]"
   ]
  },
  {
   "cell_type": "markdown",
   "id": "ea80c3c9",
   "metadata": {},
   "source": [
    "This would be the time to clean up the data a little bit. Things such as\n",
    "\n",
    "- potential NaN-values,\n",
    "- really long/short edges,\n",
    "- infeasible velocities,\n",
    "- etc\n",
    "\n",
    "No such thing is included as of yet."
   ]
  },
  {
   "cell_type": "code",
   "execution_count": 309,
   "id": "4ed2e000",
   "metadata": {},
   "outputs": [],
   "source": [
    "#Potential clean up code goes here"
   ]
  },
  {
   "cell_type": "markdown",
   "id": "585967f9",
   "metadata": {},
   "source": [
    "## End of pre-pre-processing\n",
    "The cells ABOVE this point should (for your own sake) only be run once. \n",
    "The cells below can be altered to your hearts content! \n",
    "\n",
    "Maybe add a save here? "
   ]
  },
  {
   "cell_type": "code",
   "execution_count": null,
   "id": "638511d7",
   "metadata": {},
   "outputs": [],
   "source": [
    "#SAVE\n",
    "#df.to_csv(\"all_three.csv\", index=False)"
   ]
  },
  {
   "cell_type": "markdown",
   "id": "bfafa8e7",
   "metadata": {},
   "source": [
    "# # Start from here next time :)\n",
    "(don't forget to run/import the first cell)"
   ]
  },
  {
   "cell_type": "code",
   "execution_count": null,
   "id": "3ed104aa",
   "metadata": {},
   "outputs": [],
   "source": [
    "#Read saved \n",
    "#df = pd.read_csv(r\"all_three.csv\")\n",
    "\n",
    "#remove bin column (this is just for me personally because on the version I saved I had \n",
    "#already done one aggregation, so just a reminder to remove that one)\n",
    "\n",
    "#df = data.drop([\"Average speed [m/s]\"], axis = 1, inplace = True)"
   ]
  },
  {
   "cell_type": "markdown",
   "id": "26f513ba",
   "metadata": {},
   "source": [
    "We also want to set our bin-sizes, which is done below. All data and assignment into bins are done in m/s but for legibility the finals bins are denoted with km/h. This could of course change if we decide to bin another way, but I wanted to stick to the current convention, as for now."
   ]
  },
  {
   "cell_type": "code",
   "execution_count": 310,
   "id": "dcd32827",
   "metadata": {},
   "outputs": [],
   "source": [
    "#Here we simply set the bin-sizes for the average speed\n",
    "variable = \"av_speed_ms\"  \n",
    "grouped_variable_name = \"Average speed [m/s]\"\n",
    "\n",
    "#set the edges of the bins\n",
    "bin_edges = [-np.inf]\n",
    "for i in range(1,51):\n",
    "    bin_edges.append(i/3.6)\n",
    "bin_edges.append(np.inf)\n",
    "\n",
    "#name the bins (should be one less than bin_edges)\n",
    "bin_labels = []\n",
    "for k in range(1,51):\n",
    "    bin_labels.append(str(k))\n",
    "\n",
    "bin_labels.append(\"> \" + str(k))\n",
    "\n",
    "\n",
    "#bin_edges = [-np.inf,0.5, 1, 1.5, 2,3,4, 15, np.inf]\n",
    "#bin_labels = [\"<0.5\",\"0.5-1\", \"1-1.5\", \"1.5-2\", \"2-3\", \"3-4\", \"4-15\", \">15\"]\n",
    "\n",
    "\n",
    "# This part does the grouping based on the input above\n",
    "df[grouped_variable_name] = pd.cut(\n",
    "    df[variable],\n",
    "    bins=bin_edges,\n",
    "    labels=bin_labels,\n",
    "    right=True)  # Wheter to include the right edge in group or not\n",
    "\n",
    "#We have now created an additional column which denotes which of the above bins each row belongs to\n",
    "#i.e. a row is now given by: edge(geometry, duration, visitors, speed_BIN)"
   ]
  },
  {
   "cell_type": "code",
   "execution_count": 311,
   "id": "a7f602af",
   "metadata": {},
   "outputs": [
    {
     "data": {
      "text/html": [
       "<div>\n",
       "<style scoped>\n",
       "    .dataframe tbody tr th:only-of-type {\n",
       "        vertical-align: middle;\n",
       "    }\n",
       "\n",
       "    .dataframe tbody tr th {\n",
       "        vertical-align: top;\n",
       "    }\n",
       "\n",
       "    .dataframe thead th {\n",
       "        text-align: right;\n",
       "    }\n",
       "</style>\n",
       "<table border=\"1\" class=\"dataframe\">\n",
       "  <thead>\n",
       "    <tr style=\"text-align: right;\">\n",
       "      <th></th>\n",
       "      <th>geometry</th>\n",
       "      <th>av_speed_ms</th>\n",
       "      <th>visits</th>\n",
       "      <th>length</th>\n",
       "      <th>duration</th>\n",
       "      <th>total_duration</th>\n",
       "      <th>Average speed [m/s]</th>\n",
       "    </tr>\n",
       "  </thead>\n",
       "  <tbody>\n",
       "    <tr>\n",
       "      <th>0</th>\n",
       "      <td>LINESTRING (13.33734 49.06005, 13.33812 49.05981)</td>\n",
       "      <td>2.268807</td>\n",
       "      <td>1</td>\n",
       "      <td>91.366416</td>\n",
       "      <td>40.270690</td>\n",
       "      <td>40.270690</td>\n",
       "      <td>9</td>\n",
       "    </tr>\n",
       "    <tr>\n",
       "      <th>1</th>\n",
       "      <td>LINESTRING (13.33812 49.05981, 13.33734 49.06005)</td>\n",
       "      <td>6.184439</td>\n",
       "      <td>1</td>\n",
       "      <td>91.366416</td>\n",
       "      <td>14.773598</td>\n",
       "      <td>14.773598</td>\n",
       "      <td>23</td>\n",
       "    </tr>\n",
       "    <tr>\n",
       "      <th>2</th>\n",
       "      <td>LINESTRING (13.33652 49.06022, 13.33574 49.06030)</td>\n",
       "      <td>8.091433</td>\n",
       "      <td>1</td>\n",
       "      <td>87.137119</td>\n",
       "      <td>10.769058</td>\n",
       "      <td>10.769058</td>\n",
       "      <td>30</td>\n",
       "    </tr>\n",
       "    <tr>\n",
       "      <th>3</th>\n",
       "      <td>LINESTRING (13.33574 49.06030, 13.33652 49.06022)</td>\n",
       "      <td>2.482184</td>\n",
       "      <td>1</td>\n",
       "      <td>87.137119</td>\n",
       "      <td>35.105026</td>\n",
       "      <td>35.105026</td>\n",
       "      <td>9</td>\n",
       "    </tr>\n",
       "    <tr>\n",
       "      <th>4</th>\n",
       "      <td>LINESTRING (13.33652 49.06022, 13.33683 49.06017)</td>\n",
       "      <td>2.397976</td>\n",
       "      <td>1</td>\n",
       "      <td>34.239417</td>\n",
       "      <td>14.278463</td>\n",
       "      <td>14.278463</td>\n",
       "      <td>9</td>\n",
       "    </tr>\n",
       "    <tr>\n",
       "      <th>...</th>\n",
       "      <td>...</td>\n",
       "      <td>...</td>\n",
       "      <td>...</td>\n",
       "      <td>...</td>\n",
       "      <td>...</td>\n",
       "      <td>...</td>\n",
       "      <td>...</td>\n",
       "    </tr>\n",
       "    <tr>\n",
       "      <th>65718869</th>\n",
       "      <td>LINESTRING (8.38740 55.03568, 8.38775 55.03568)</td>\n",
       "      <td>7.431055</td>\n",
       "      <td>3</td>\n",
       "      <td>39.642902</td>\n",
       "      <td>5.334761</td>\n",
       "      <td>16.004284</td>\n",
       "      <td>27</td>\n",
       "    </tr>\n",
       "    <tr>\n",
       "      <th>65718870</th>\n",
       "      <td>LINESTRING (8.38775 55.03568, 8.38740 55.03568)</td>\n",
       "      <td>5.507002</td>\n",
       "      <td>9</td>\n",
       "      <td>39.642902</td>\n",
       "      <td>7.198636</td>\n",
       "      <td>64.787721</td>\n",
       "      <td>20</td>\n",
       "    </tr>\n",
       "    <tr>\n",
       "      <th>65718871</th>\n",
       "      <td>LINESTRING (8.38797 55.03570, 8.38815 55.03573)</td>\n",
       "      <td>6.912990</td>\n",
       "      <td>3</td>\n",
       "      <td>20.167661</td>\n",
       "      <td>2.917357</td>\n",
       "      <td>8.752072</td>\n",
       "      <td>25</td>\n",
       "    </tr>\n",
       "    <tr>\n",
       "      <th>65718872</th>\n",
       "      <td>LINESTRING (8.38815 55.03573, 8.38797 55.03570)</td>\n",
       "      <td>5.452114</td>\n",
       "      <td>9</td>\n",
       "      <td>20.167661</td>\n",
       "      <td>3.699053</td>\n",
       "      <td>33.291478</td>\n",
       "      <td>20</td>\n",
       "    </tr>\n",
       "    <tr>\n",
       "      <th>65718873</th>\n",
       "      <td>LINESTRING (8.38797 55.03570, 8.38775 55.03568)</td>\n",
       "      <td>5.500760</td>\n",
       "      <td>9</td>\n",
       "      <td>24.422550</td>\n",
       "      <td>4.439850</td>\n",
       "      <td>39.958654</td>\n",
       "      <td>20</td>\n",
       "    </tr>\n",
       "  </tbody>\n",
       "</table>\n",
       "<p>65718874 rows × 7 columns</p>\n",
       "</div>"
      ],
      "text/plain": [
       "                                                   geometry  av_speed_ms  \\\n",
       "0         LINESTRING (13.33734 49.06005, 13.33812 49.05981)     2.268807   \n",
       "1         LINESTRING (13.33812 49.05981, 13.33734 49.06005)     6.184439   \n",
       "2         LINESTRING (13.33652 49.06022, 13.33574 49.06030)     8.091433   \n",
       "3         LINESTRING (13.33574 49.06030, 13.33652 49.06022)     2.482184   \n",
       "4         LINESTRING (13.33652 49.06022, 13.33683 49.06017)     2.397976   \n",
       "...                                                     ...          ...   \n",
       "65718869    LINESTRING (8.38740 55.03568, 8.38775 55.03568)     7.431055   \n",
       "65718870    LINESTRING (8.38775 55.03568, 8.38740 55.03568)     5.507002   \n",
       "65718871    LINESTRING (8.38797 55.03570, 8.38815 55.03573)     6.912990   \n",
       "65718872    LINESTRING (8.38815 55.03573, 8.38797 55.03570)     5.452114   \n",
       "65718873    LINESTRING (8.38797 55.03570, 8.38775 55.03568)     5.500760   \n",
       "\n",
       "          visits     length   duration  total_duration Average speed [m/s]  \n",
       "0              1  91.366416  40.270690       40.270690                   9  \n",
       "1              1  91.366416  14.773598       14.773598                  23  \n",
       "2              1  87.137119  10.769058       10.769058                  30  \n",
       "3              1  87.137119  35.105026       35.105026                   9  \n",
       "4              1  34.239417  14.278463       14.278463                   9  \n",
       "...          ...        ...        ...             ...                 ...  \n",
       "65718869       3  39.642902   5.334761       16.004284                  27  \n",
       "65718870       9  39.642902   7.198636       64.787721                  20  \n",
       "65718871       3  20.167661   2.917357        8.752072                  25  \n",
       "65718872       9  20.167661   3.699053       33.291478                  20  \n",
       "65718873       9  24.422550   4.439850       39.958654                  20  \n",
       "\n",
       "[65718874 rows x 7 columns]"
      ]
     },
     "execution_count": 311,
     "metadata": {},
     "output_type": "execute_result"
    }
   ],
   "source": [
    "#run cell to look at the final data-frame (will only print out first and last five lines, so don't be scared)\n",
    "df"
   ]
  },
  {
   "cell_type": "markdown",
   "id": "cb67f6e9",
   "metadata": {},
   "source": [
    "Now we have the data, but how to use it?\n",
    "\n",
    "There are some things of interest.\n",
    "\n",
    "Below are some ways of \"counting\" the occurances. \n",
    "For easy comparison a row will be referred to as an edge containing the following information:\n",
    "\n",
    "    edge(geometry, duration, visitors, speed)\n",
    "\n",
    "since \"geometry\" is not used it will instead be used as an ID for identifying each separate column \n",
    "(this is arbitrary, since any column could be used for this but I made a choice :))"
   ]
  },
  {
   "cell_type": "code",
   "execution_count": 312,
   "id": "401e9a78",
   "metadata": {},
   "outputs": [],
   "source": [
    "#Which one do we want to look at? \n",
    "#In the future cuts of this size should be decided on higher up in the code, to speed up computations\n",
    "\n",
    "df_ones = df.loc[df[\"visits\"]==1]\n",
    "#df_low = df.loc[df[\"visits\"] <= 10]\n",
    "df_high = df.loc[df[\"visits\"]>=10]\n",
    "\n",
    "df_ = df_high #Assign which data to plot"
   ]
  },
  {
   "cell_type": "code",
   "execution_count": 277,
   "id": "4a729051",
   "metadata": {},
   "outputs": [],
   "source": [
    "#We can aggregate the data in different ways\n",
    "aggregations = {\n",
    "    \"geometry\": \"count\",  #\"geometry\" is used here to calculate how many rows of data are in each category\n",
    "    \"duration\": \"sum\", #If we want to aggregate based on duration\n",
    "    \"visits\": \"sum\", #If we want to aggregate based on visits\n",
    "    \"total_duration\": \"sum\", #if we want to aggregate based on visitis*duration\n",
    "}\n",
    "\n",
    "# Renaming of \"geometry\" in aggregation since it is only (arbitrarily) used for counting the number of rows\n",
    "renamings = {\"geometry\": \"NumberOfRows\"}\n",
    "\n",
    "# Do the aggregation and renamning\n",
    "df_agg_stat = (\n",
    "    df_.groupby(grouped_variable_name).agg(aggregations).rename(columns=renamings)\n",
    ")\n",
    "\n",
    "# Display the aggregated data\n",
    "#print(df_agg_stat)"
   ]
  },
  {
   "cell_type": "code",
   "execution_count": 272,
   "id": "bcfa1e29",
   "metadata": {},
   "outputs": [
    {
     "data": {
      "image/png": "[encoded data removed]",
      "text/plain": [
       "<Figure size 2500x500 with 3 Axes>"
      ]
     },
     "metadata": {},
     "output_type": "display_data"
    }
   ],
   "source": [
    "fig = plt.figure(figsize=(25, 5))\n",
    "\n",
    "plt.subplot(141)\n",
    "plt.xlabel(df_agg_stat.index.name)\n",
    "plt.bar(df_agg_stat.index, df_agg_stat[\"NumberOfRows\"])\n",
    "plt.title(\"Count every row once\")\n",
    "\n",
    "\n",
    "plt.subplot(142)\n",
    "plt.xlabel(df_agg_stat.index.name)\n",
    "plt.bar(df_agg_stat.index, df_agg_stat[\"duration\"])\n",
    "plt.title(\"Count the duration of every row\")\n",
    "\n",
    "\n",
    "plt.subplot(143)\n",
    "plt.xlabel(df_agg_stat.index.name)\n",
    "plt.bar(df_agg_stat.index, df_agg_stat[\"total_duration\"])\n",
    "plt.title(\"Duration*Visitors\")\n",
    "\n",
    "plt.show()"
   ]
  },
  {
   "cell_type": "markdown",
   "id": "8320c080",
   "metadata": {},
   "source": [
    "Below we plot again for the single visits"
   ]
  },
  {
   "cell_type": "code",
   "execution_count": 273,
   "id": "15b35e42",
   "metadata": {},
   "outputs": [],
   "source": [
    "df_ = df_ones"
   ]
  },
  {
   "cell_type": "code",
   "execution_count": 275,
   "id": "6d751116",
   "metadata": {},
   "outputs": [],
   "source": [
    "#We can aggregate the data in different ways\n",
    "aggregations = {\n",
    "    \"geometry\": \"count\",  #\"geometry\" is used here to calculate how many rows of data are in each category\n",
    "    \"duration\": \"sum\", #If we want to aggregate based on duration\n",
    "    \"visits\": \"sum\", #If we want to aggregate based on visits\n",
    "    \"dur_vis\": \"sum\",\n",
    "}\n",
    "\n",
    "# Renaming of \"geometry\" in aggregation since it is only (arbitrarily) used for counting the number of rows\n",
    "renamings = {\"geometry\": \"NumberOfRows\"}\n",
    "\n",
    "# Do the aggregation and renamning\n",
    "df_agg_stat = (\n",
    "    df_.groupby(grouped_variable_name).agg(aggregations).rename(columns=renamings)\n",
    ")\n",
    "\n",
    "# Display the aggregated data\n",
    "#print(df_agg_stat)"
   ]
  },
  {
   "cell_type": "code",
   "execution_count": 276,
   "id": "5ef57c17",
   "metadata": {},
   "outputs": [
    {
     "data": {
      "image/png": "[encoded data removed]",
      "text/plain": [
       "<Figure size 2500x500 with 3 Axes>"
      ]
     },
     "metadata": {},
     "output_type": "display_data"
    }
   ],
   "source": [
    "fig = plt.figure(figsize=(25, 5))\n",
    "\n",
    "plt.subplot(141)\n",
    "plt.xlabel(df_agg_stat.index.name)\n",
    "plt.bar(df_agg_stat.index, df_agg_stat[\"NumberOfRows\"])\n",
    "plt.title(\"Count every row once\")\n",
    "\n",
    "\n",
    "plt.subplot(142)\n",
    "plt.xlabel(df_agg_stat.index.name)\n",
    "plt.bar(df_agg_stat.index, df_agg_stat[\"duration\"])\n",
    "plt.title(\"Count the duration of every row\")\n",
    "\n",
    "\n",
    "plt.subplot(143)\n",
    "plt.xlabel(df_agg_stat.index.name)\n",
    "plt.bar(df_agg_stat.index, df_agg_stat[\"dur_vis\"])\n",
    "plt.title(\"Duration*visitors\")\n",
    "\n",
    "plt.show()"
   ]
  },
  {
   "cell_type": "markdown",
   "id": "3058547c",
   "metadata": {},
   "source": [
    "Some other interesting data\n",
    "\n",
    "- how long the edges are\n",
    "- how length of edge relate to average velocity\n",
    "- how number of visitors affect deviance from the mean?"
   ]
  },
  {
   "cell_type": "code",
   "execution_count": null,
   "id": "b29f3e30",
   "metadata": {},
   "outputs": [],
   "source": [
    "#maximum and minimum length of edges\n",
    "print(max(df[\"length\"]))\n",
    "print(min(df[\"length\"]))"
   ]
  },
  {
   "cell_type": "code",
   "execution_count": 288,
   "id": "3d10afde",
   "metadata": {},
   "outputs": [],
   "source": [
    "#Make a histogram based on lengths of edges\n",
    "variable = \"length\"  \n",
    "grouped_variable_name = \"Length\"\n",
    "\n",
    "bin_edges = [-np.inf,20, 40, 60, 80,100,200, 500, np.inf]\n",
    "bin_labels = [\"<20\",\"20-40\", \"40-60\", \"60-80\", \"80-100\", \"100-200\", \"200-500\", \">500\"]\n",
    "\n",
    "# This part does the grouping based on the input above\n",
    "df[grouped_variable_name] = pd.cut(\n",
    "    df[variable],\n",
    "    bins=bin_edges,\n",
    "    labels=bin_labels,\n",
    "    right=True)  # Wheter to include the right edge in group or not\n",
    "\n",
    "aggregations = {\n",
    "    \"geometry\": \"count\",  #\"geometry\" is used here to calculate how many rows of data are in each category\n",
    "}\n",
    "\n",
    "# Renaming of \"geometry\" in aggregation since it is only (arbitrarily) used for counting the number of rows\n",
    "renamings = {\"geometry\": \"NumberOfRows\"}\n",
    "\n",
    "# Do the aggregation and renamning\n",
    "df_agg_stat = (\n",
    "    df.groupby(grouped_variable_name).agg(aggregations).rename(columns=renamings)\n",
    ")\n",
    "\n",
    "# Display the aggregated data\n",
    "#print(df_agg_stat)\n",
    "\n",
    "fig = plt.figure(figsize=(25, 5))\n",
    "\n",
    "plt.subplot(141)\n",
    "plt.xlabel(df_agg_stat.index.name)\n",
    "plt.bar(df_agg_stat.index, df_agg_stat[\"NumberOfRows\"])\n",
    "plt.title(\"Length of edges\")"
   ]
  }
 ],
 "metadata": {
  "kernelspec": {
   "display_name": "Python 3 (ipykernel)",
   "language": "python",
   "name": "python3"
  },
  "language_info": {
   "codemirror_mode": {
    "name": "ipython",
    "version": 3
   },
   "file_extension": ".py",
   "mimetype": "text/x-python",
   "name": "python",
   "nbconvert_exporter": "python",
   "pygments_lexer": "ipython3",
   "version": "3.9.13"
  }
 },
 "nbformat": 4,
 "nbformat_minor": 5
}
